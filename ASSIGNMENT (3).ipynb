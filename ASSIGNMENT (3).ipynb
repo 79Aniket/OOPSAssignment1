{
 "cells": [
  {
   "cell_type": "markdown",
   "id": "8d88d979-5ba4-46ea-bb44-7128b395df96",
   "metadata": {},
   "source": [
    "### Q1. Explain Class and Object with respect to Object-Oriented Programming. Give a suitable example."
   ]
  },
  {
   "cell_type": "code",
   "execution_count": 1,
   "id": "2a9c7278-a022-4b35-beac-286847ee316c",
   "metadata": {},
   "outputs": [],
   "source": [
    "class pwskills:\n",
    "    def welcome_message(self):\n",
    "        print(\"welcome to pwkills\")"
   ]
  },
  {
   "cell_type": "code",
   "execution_count": 2,
   "id": "fc3db365-7709-4eb9-af1c-dc94669311b1",
   "metadata": {},
   "outputs": [],
   "source": [
    "aniket = pwskills()"
   ]
  },
  {
   "cell_type": "code",
   "execution_count": 3,
   "id": "c8ef5c2c-3b7a-46e5-a45f-49308455a22d",
   "metadata": {},
   "outputs": [
    {
     "name": "stdout",
     "output_type": "stream",
     "text": [
      "welcome to pwkills\n"
     ]
    }
   ],
   "source": [
    "aniket.welcome_message()"
   ]
  },
  {
   "cell_type": "code",
   "execution_count": null,
   "id": "ca927711-493c-40df-ac47-df86e7bf7ae2",
   "metadata": {},
   "outputs": [],
   "source": []
  },
  {
   "cell_type": "markdown",
   "id": "8578bbb6-b025-4abe-8513-aedf91c6f0a7",
   "metadata": {},
   "source": [
    "### Q3. Explain why the __init__() function is used. Give a suitable example."
   ]
  },
  {
   "cell_type": "code",
   "execution_count": 5,
   "id": "8de090a1-5541-43a5-9487-f3de1de1b56c",
   "metadata": {},
   "outputs": [],
   "source": [
    "class boy:\n",
    "    def __init__(self, name, age): #__init__ is a constructor\n",
    "        self.name = name\n",
    "        self.age = age\n",
    "        \n",
    "    def return_boy_info(self):\n",
    "        return self.name, self.age\n",
    "        \n",
    "        \n",
    "        \n"
   ]
  },
  {
   "cell_type": "code",
   "execution_count": 11,
   "id": "d4ce91d9-f4c0-4813-af92-7b1544ec656d",
   "metadata": {},
   "outputs": [],
   "source": [
    "harry = boy(\"aniket\", 21)"
   ]
  },
  {
   "cell_type": "code",
   "execution_count": 12,
   "id": "bb43daed-3217-466a-afd4-16149fa5eea2",
   "metadata": {},
   "outputs": [
    {
     "data": {
      "text/plain": [
       "('aniket', 21)"
      ]
     },
     "execution_count": 12,
     "metadata": {},
     "output_type": "execute_result"
    }
   ],
   "source": [
    "harry.return_boy_info()"
   ]
  },
  {
   "cell_type": "code",
   "execution_count": 13,
   "id": "9731e2c6-6d71-4e88-ab26-2974f0d07ea2",
   "metadata": {},
   "outputs": [
    {
     "data": {
      "text/plain": [
       "21"
      ]
     },
     "execution_count": 13,
     "metadata": {},
     "output_type": "execute_result"
    }
   ],
   "source": [
    "harry.age"
   ]
  },
  {
   "cell_type": "code",
   "execution_count": 14,
   "id": "0d2de103-85bb-440b-9512-6a4e98680f2a",
   "metadata": {},
   "outputs": [
    {
     "data": {
      "text/plain": [
       "'aniket'"
      ]
     },
     "execution_count": 14,
     "metadata": {},
     "output_type": "execute_result"
    }
   ],
   "source": [
    "harry.name"
   ]
  },
  {
   "cell_type": "markdown",
   "id": "7f7ad9a5-d198-495e-b7a7-b568bf8bd9a8",
   "metadata": {},
   "source": [
    "###  Q4. Why self is used in OOPs?"
   ]
  },
  {
   "cell_type": "code",
   "execution_count": 25,
   "id": "7d737260-96fe-4b39-8fb7-3d2ff719a9ba",
   "metadata": {},
   "outputs": [],
   "source": [
    "#SELF represents the instance of class\n",
    "class subject:\n",
    "    def __init__(self, math_marks, english_marks): #Self is a pointer\n",
    "        self.math_marks = math_marks\n",
    "        self.english_marks = english_marks\n",
    "        \n",
    "    def subject_details(self):\n",
    "        return self.math_marks, self.english_marks\n",
    "    "
   ]
  },
  {
   "cell_type": "code",
   "execution_count": 21,
   "id": "ba3fdb40-86e1-4aa4-98d8-94a24db9b07b",
   "metadata": {},
   "outputs": [],
   "source": [
    "sub = subject(75, 52)"
   ]
  },
  {
   "cell_type": "code",
   "execution_count": 22,
   "id": "a1850677-6a87-4845-ae60-a9ff1ccb2e7e",
   "metadata": {},
   "outputs": [
    {
     "data": {
      "text/plain": [
       "(75, 52)"
      ]
     },
     "execution_count": 22,
     "metadata": {},
     "output_type": "execute_result"
    }
   ],
   "source": [
    "sub.subject_details()"
   ]
  },
  {
   "cell_type": "code",
   "execution_count": 23,
   "id": "103847b5-7297-4779-8566-c9eca112bbdb",
   "metadata": {},
   "outputs": [
    {
     "data": {
      "text/plain": [
       "52"
      ]
     },
     "execution_count": 23,
     "metadata": {},
     "output_type": "execute_result"
    }
   ],
   "source": [
    "sub.english_marks"
   ]
  },
  {
   "cell_type": "code",
   "execution_count": 24,
   "id": "522032e0-46e9-49e2-8be6-d0f28bdfa33b",
   "metadata": {},
   "outputs": [
    {
     "data": {
      "text/plain": [
       "75"
      ]
     },
     "execution_count": 24,
     "metadata": {},
     "output_type": "execute_result"
    }
   ],
   "source": [
    "sub.math_marks\n"
   ]
  },
  {
   "cell_type": "code",
   "execution_count": null,
   "id": "84b718ac-0f34-41ae-960d-723a39648d3f",
   "metadata": {},
   "outputs": [],
   "source": []
  },
  {
   "cell_type": "markdown",
   "id": "c04c3ed6-1024-4eb9-a8e4-5117180ca82a",
   "metadata": {},
   "source": [
    "###  Q2. Name the four pillars of OOPs."
   ]
  },
  {
   "cell_type": "markdown",
   "id": "b6addd9b-50d0-4e12-8fa9-7554be18ec6d",
   "metadata": {},
   "source": [
    "### 1.Abstraction.\n",
    "### 2.Encapsulation.\n",
    "### 3.Inheritance.\n",
    "### 4.Polymorphism."
   ]
  },
  {
   "cell_type": "code",
   "execution_count": null,
   "id": "3e23679f-0d66-4bd5-9d4c-4e08b215ed42",
   "metadata": {},
   "outputs": [],
   "source": []
  },
  {
   "cell_type": "markdown",
   "id": "11c97bb1-2457-46b7-a1b6-bee53ec14f70",
   "metadata": {},
   "source": [
    "### Q5. What is inheritance? Give an example for each type of inheritance."
   ]
  },
  {
   "cell_type": "code",
   "execution_count": 26,
   "id": "2ecff86e-1770-443d-8ea7-0e00710cafe4",
   "metadata": {},
   "outputs": [],
   "source": [
    "#Multilevel Inheritance\n",
    "class class1:\n",
    "    def test_class1(self):\n",
    "        return \"this is my first class\""
   ]
  },
  {
   "cell_type": "code",
   "execution_count": 27,
   "id": "adfb9be7-cece-4d98-b854-f8b48ceb0cfc",
   "metadata": {},
   "outputs": [],
   "source": [
    "class class2(class1):\n",
    "    def test_class(self):\n",
    "        return \"this is my second class\"\n",
    "    \n",
    "    "
   ]
  },
  {
   "cell_type": "code",
   "execution_count": 28,
   "id": "72d3ed64-37e2-44e0-b6ad-5ea54687d6de",
   "metadata": {},
   "outputs": [],
   "source": [
    "class class3(class2):\n",
    "    pass"
   ]
  },
  {
   "cell_type": "code",
   "execution_count": 29,
   "id": "e1ef684c-e76b-4409-9633-e27371c21636",
   "metadata": {},
   "outputs": [],
   "source": [
    "obj_class3 = class3()"
   ]
  },
  {
   "cell_type": "code",
   "execution_count": 30,
   "id": "e13d7815-4669-482b-847a-e6416f6f9c90",
   "metadata": {},
   "outputs": [
    {
     "data": {
      "text/plain": [
       "'this is my second class'"
      ]
     },
     "execution_count": 30,
     "metadata": {},
     "output_type": "execute_result"
    }
   ],
   "source": [
    "obj_class3.test_class()"
   ]
  },
  {
   "cell_type": "code",
   "execution_count": 31,
   "id": "babe146e-7b85-4fad-ba91-161c5e90bde2",
   "metadata": {},
   "outputs": [
    {
     "data": {
      "text/plain": [
       "'this is my first class'"
      ]
     },
     "execution_count": 31,
     "metadata": {},
     "output_type": "execute_result"
    }
   ],
   "source": [
    "obj_class3.test_class1()"
   ]
  },
  {
   "cell_type": "code",
   "execution_count": 32,
   "id": "b6cf0645-e6ce-4df7-bd66-61c5074d40f6",
   "metadata": {},
   "outputs": [],
   "source": [
    "#Multiple Inheritance\n",
    "class class1:\n",
    "    def test_class1(self):\n",
    "        return \"this is test class1\""
   ]
  },
  {
   "cell_type": "code",
   "execution_count": 33,
   "id": "2e21eb94-8a9a-472f-b93e-e4c4dd66120b",
   "metadata": {},
   "outputs": [],
   "source": [
    "class class2:\n",
    "    def test_class2(self):\n",
    "        return \"this is test class2\""
   ]
  },
  {
   "cell_type": "code",
   "execution_count": 36,
   "id": "0f1bab43-db1f-44ca-ba93-83795c435e47",
   "metadata": {},
   "outputs": [],
   "source": [
    "class class3(class1, class2):\n",
    "    pass"
   ]
  },
  {
   "cell_type": "code",
   "execution_count": 37,
   "id": "eb6a3519-546b-4433-9c98-2bfa5a43ed3d",
   "metadata": {},
   "outputs": [],
   "source": [
    "obj_class3 = class3()"
   ]
  },
  {
   "cell_type": "code",
   "execution_count": 38,
   "id": "ccd653c1-a39d-4c20-8294-1e97178617b1",
   "metadata": {},
   "outputs": [
    {
     "data": {
      "text/plain": [
       "'this is test class1'"
      ]
     },
     "execution_count": 38,
     "metadata": {},
     "output_type": "execute_result"
    }
   ],
   "source": [
    "obj_class3.test_class1()"
   ]
  },
  {
   "cell_type": "code",
   "execution_count": 39,
   "id": "a8d93ac9-6e73-4e34-9009-fe4fd068b110",
   "metadata": {},
   "outputs": [
    {
     "data": {
      "text/plain": [
       "'this is test class2'"
      ]
     },
     "execution_count": 39,
     "metadata": {},
     "output_type": "execute_result"
    }
   ],
   "source": [
    "obj_class3.test_class2()"
   ]
  },
  {
   "cell_type": "code",
   "execution_count": null,
   "id": "e4be18d8-8c48-46a3-b2a4-a83ad91f9aba",
   "metadata": {},
   "outputs": [],
   "source": []
  },
  {
   "cell_type": "code",
   "execution_count": null,
   "id": "c2628a95-505a-431f-b69d-021e3dd7ff03",
   "metadata": {},
   "outputs": [],
   "source": []
  }
 ],
 "metadata": {
  "kernelspec": {
   "display_name": "Python 3 (ipykernel)",
   "language": "python",
   "name": "python3"
  },
  "language_info": {
   "codemirror_mode": {
    "name": "ipython",
    "version": 3
   },
   "file_extension": ".py",
   "mimetype": "text/x-python",
   "name": "python",
   "nbconvert_exporter": "python",
   "pygments_lexer": "ipython3",
   "version": "3.10.8"
  }
 },
 "nbformat": 4,
 "nbformat_minor": 5
}
